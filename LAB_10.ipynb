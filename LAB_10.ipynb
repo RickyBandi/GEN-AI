{
  "nbformat": 4,
  "nbformat_minor": 0,
  "metadata": {
    "colab": {
      "provenance": [],
      "include_colab_link": true
    },
    "kernelspec": {
      "name": "python3",
      "display_name": "Python 3"
    },
    "language_info": {
      "name": "python"
    }
  },
  "cells": [
    {
      "cell_type": "markdown",
      "metadata": {
        "id": "view-in-github",
        "colab_type": "text"
      },
      "source": [
        "<a href=\"https://colab.research.google.com/github/RickyBandi/GEN-AI/blob/main/LAB_10.ipynb\" target=\"_parent\"><img src=\"https://colab.research.google.com/assets/colab-badge.svg\" alt=\"Open In Colab\"/></a>"
      ]
    },
    {
      "cell_type": "code",
      "source": [
        "import tensorflow as tf\n",
        "from tensorflow.keras import datasets, layers, models\n",
        "# Load the dataset\n",
        "(train_images, train_labels), (test_images, test_labels) = datasets.mnist.load_data()\n",
        "\n",
        "# Normalize pixel values to the range 0-1\n",
        "train_images, test_images = train_images / 255.0, test_images / 255.0\n",
        "\n",
        "# Reshape images to add a channel dimension\n",
        "train_images = train_images[..., tf.newaxis]\n",
        "test_images = test_images[..., tf.newaxis]\n",
        "model = models.Sequential([\n",
        "    layers.Conv2D(33, (3, 3), activation='relu', input_shape=(28, 28, 1)),\n",
        "    layers.MaxPooling2D((2, 2)),\n",
        "    layers.Conv2D(64, (3, 3), activation='relu'),\n",
        "    layers.MaxPooling2D((2, 2)),\n",
        "    layers.Flatten(),\n",
        "    layers.Dense(128, activation='relu'),\n",
        "    layers.Dense(10, activation='softmax')\n",
        "])\n",
        "model.compile(optimizer='adam',\n",
        "              loss='sparse_categorical_crossentropy',\n",
        "              metrics=['accuracy'])\n",
        "history = model.fit(train_images, train_labels, epochs=30, batch_size=32, validation_split=0.1)\n",
        "test_loss, test_acc = model.evaluate(test_images, test_labels, verbose=2)\n",
        "print(f'\\nTest accuracy: {test_acc:.4f}')"
      ],
      "metadata": {
        "colab": {
          "base_uri": "https://localhost:8080/"
        },
        "id": "7woD7HqKsJcx",
        "outputId": "582da9bd-e52b-41d3-b644-f8a2f9d4d882"
      },
      "execution_count": null,
      "outputs": [
        {
          "metadata": {
            "tags": null
          },
          "name": "stderr",
          "output_type": "stream",
          "text": [
            "/usr/local/lib/python3.11/dist-packages/keras/src/layers/convolutional/base_conv.py:107: UserWarning: Do not pass an `input_shape`/`input_dim` argument to a layer. When using Sequential models, prefer using an `Input(shape)` object as the first layer in the model instead.\n",
            "  super().__init__(activity_regularizer=activity_regularizer, **kwargs)\n"
          ]
        },
        {
          "output_type": "stream",
          "name": "stdout",
          "text": [
            "Epoch 1/30\n",
            "\u001b[1m1688/1688\u001b[0m \u001b[32m━━━━━━━━━━━━━━━━━━━━\u001b[0m\u001b[37m\u001b[0m \u001b[1m58s\u001b[0m 33ms/step - accuracy: 0.9057 - loss: 0.3047 - val_accuracy: 0.9860 - val_loss: 0.0520\n",
            "Epoch 2/30\n",
            "\u001b[1m1688/1688\u001b[0m \u001b[32m━━━━━━━━━━━━━━━━━━━━\u001b[0m\u001b[37m\u001b[0m \u001b[1m80s\u001b[0m 33ms/step - accuracy: 0.9857 - loss: 0.0466 - val_accuracy: 0.9875 - val_loss: 0.0393\n",
            "Epoch 3/30\n",
            "\u001b[1m1688/1688\u001b[0m \u001b[32m━━━━━━━━━━━━━━━━━━━━\u001b[0m\u001b[37m\u001b[0m \u001b[1m81s\u001b[0m 32ms/step - accuracy: 0.9913 - loss: 0.0264 - val_accuracy: 0.9905 - val_loss: 0.0384\n",
            "Epoch 4/30\n",
            "\u001b[1m1688/1688\u001b[0m \u001b[32m━━━━━━━━━━━━━━━━━━━━\u001b[0m\u001b[37m\u001b[0m \u001b[1m82s\u001b[0m 32ms/step - accuracy: 0.9935 - loss: 0.0209 - val_accuracy: 0.9888 - val_loss: 0.0423\n",
            "Epoch 5/30\n",
            "\u001b[1m1688/1688\u001b[0m \u001b[32m━━━━━━━━━━━━━━━━━━━━\u001b[0m\u001b[37m\u001b[0m \u001b[1m81s\u001b[0m 32ms/step - accuracy: 0.9951 - loss: 0.0152 - val_accuracy: 0.9905 - val_loss: 0.0356\n",
            "Epoch 6/30\n",
            "\u001b[1m1688/1688\u001b[0m \u001b[32m━━━━━━━━━━━━━━━━━━━━\u001b[0m\u001b[37m\u001b[0m \u001b[1m87s\u001b[0m 35ms/step - accuracy: 0.9965 - loss: 0.0110 - val_accuracy: 0.9908 - val_loss: 0.0400\n",
            "Epoch 7/30\n",
            "\u001b[1m1688/1688\u001b[0m \u001b[32m━━━━━━━━━━━━━━━━━━━━\u001b[0m\u001b[37m\u001b[0m \u001b[1m77s\u001b[0m 32ms/step - accuracy: 0.9965 - loss: 0.0094 - val_accuracy: 0.9898 - val_loss: 0.0501\n",
            "Epoch 8/30\n",
            "\u001b[1m1688/1688\u001b[0m \u001b[32m━━━━━━━━━━━━━━━━━━━━\u001b[0m\u001b[37m\u001b[0m \u001b[1m54s\u001b[0m 32ms/step - accuracy: 0.9978 - loss: 0.0057 - val_accuracy: 0.9900 - val_loss: 0.0435\n",
            "Epoch 9/30\n",
            "\u001b[1m1688/1688\u001b[0m \u001b[32m━━━━━━━━━━━━━━━━━━━━\u001b[0m\u001b[37m\u001b[0m \u001b[1m82s\u001b[0m 32ms/step - accuracy: 0.9980 - loss: 0.0060 - val_accuracy: 0.9922 - val_loss: 0.0429\n",
            "Epoch 10/30\n",
            "\u001b[1m1688/1688\u001b[0m \u001b[32m━━━━━━━━━━━━━━━━━━━━\u001b[0m\u001b[37m\u001b[0m \u001b[1m82s\u001b[0m 32ms/step - accuracy: 0.9986 - loss: 0.0046 - val_accuracy: 0.9903 - val_loss: 0.0515\n",
            "Epoch 11/30\n",
            "\u001b[1m1688/1688\u001b[0m \u001b[32m━━━━━━━━━━━━━━━━━━━━\u001b[0m\u001b[37m\u001b[0m \u001b[1m82s\u001b[0m 32ms/step - accuracy: 0.9981 - loss: 0.0056 - val_accuracy: 0.9895 - val_loss: 0.0583\n",
            "Epoch 12/30\n",
            "\u001b[1m1688/1688\u001b[0m \u001b[32m━━━━━━━━━━━━━━━━━━━━\u001b[0m\u001b[37m\u001b[0m \u001b[1m81s\u001b[0m 32ms/step - accuracy: 0.9984 - loss: 0.0052 - val_accuracy: 0.9920 - val_loss: 0.0471\n",
            "Epoch 13/30\n",
            "\u001b[1m1688/1688\u001b[0m \u001b[32m━━━━━━━━━━━━━━━━━━━━\u001b[0m\u001b[37m\u001b[0m \u001b[1m55s\u001b[0m 33ms/step - accuracy: 0.9987 - loss: 0.0036 - val_accuracy: 0.9868 - val_loss: 0.0946\n",
            "Epoch 14/30\n",
            "\u001b[1m1688/1688\u001b[0m \u001b[32m━━━━━━━━━━━━━━━━━━━━\u001b[0m\u001b[37m\u001b[0m \u001b[1m81s\u001b[0m 32ms/step - accuracy: 0.9977 - loss: 0.0068 - val_accuracy: 0.9915 - val_loss: 0.0553\n",
            "Epoch 15/30\n",
            "\u001b[1m1688/1688\u001b[0m \u001b[32m━━━━━━━━━━━━━━━━━━━━\u001b[0m\u001b[37m\u001b[0m \u001b[1m81s\u001b[0m 32ms/step - accuracy: 0.9994 - loss: 0.0020 - val_accuracy: 0.9920 - val_loss: 0.0577\n",
            "Epoch 16/30\n",
            "\u001b[1m1688/1688\u001b[0m \u001b[32m━━━━━━━━━━━━━━━━━━━━\u001b[0m\u001b[37m\u001b[0m \u001b[1m83s\u001b[0m 32ms/step - accuracy: 0.9986 - loss: 0.0037 - val_accuracy: 0.9922 - val_loss: 0.0519\n",
            "Epoch 17/30\n",
            "\u001b[1m1688/1688\u001b[0m \u001b[32m━━━━━━━━━━━━━━━━━━━━\u001b[0m\u001b[37m\u001b[0m \u001b[1m83s\u001b[0m 33ms/step - accuracy: 0.9994 - loss: 0.0016 - val_accuracy: 0.9925 - val_loss: 0.0514\n",
            "Epoch 18/30\n",
            "\u001b[1m1688/1688\u001b[0m \u001b[32m━━━━━━━━━━━━━━━━━━━━\u001b[0m\u001b[37m\u001b[0m \u001b[1m54s\u001b[0m 32ms/step - accuracy: 0.9998 - loss: 9.2362e-04 - val_accuracy: 0.9922 - val_loss: 0.0596\n",
            "Epoch 19/30\n",
            "\u001b[1m1688/1688\u001b[0m \u001b[32m━━━━━━━━━━━━━━━━━━━━\u001b[0m\u001b[37m\u001b[0m \u001b[1m53s\u001b[0m 31ms/step - accuracy: 0.9987 - loss: 0.0046 - val_accuracy: 0.9917 - val_loss: 0.0610\n",
            "Epoch 20/30\n",
            "\u001b[1m1688/1688\u001b[0m \u001b[32m━━━━━━━━━━━━━━━━━━━━\u001b[0m\u001b[37m\u001b[0m \u001b[1m84s\u001b[0m 33ms/step - accuracy: 0.9992 - loss: 0.0025 - val_accuracy: 0.9913 - val_loss: 0.0657\n",
            "Epoch 21/30\n",
            "\u001b[1m1688/1688\u001b[0m \u001b[32m━━━━━━━━━━━━━━━━━━━━\u001b[0m\u001b[37m\u001b[0m \u001b[1m55s\u001b[0m 33ms/step - accuracy: 0.9991 - loss: 0.0036 - val_accuracy: 0.9933 - val_loss: 0.0578\n",
            "Epoch 22/30\n",
            "\u001b[1m1688/1688\u001b[0m \u001b[32m━━━━━━━━━━━━━━━━━━━━\u001b[0m\u001b[37m\u001b[0m \u001b[1m54s\u001b[0m 32ms/step - accuracy: 0.9990 - loss: 0.0030 - val_accuracy: 0.9907 - val_loss: 0.0680\n",
            "Epoch 23/30\n",
            "\u001b[1m1688/1688\u001b[0m \u001b[32m━━━━━━━━━━━━━━━━━━━━\u001b[0m\u001b[37m\u001b[0m \u001b[1m81s\u001b[0m 31ms/step - accuracy: 0.9993 - loss: 0.0025 - val_accuracy: 0.9917 - val_loss: 0.0691\n",
            "Epoch 24/30\n",
            "\u001b[1m1688/1688\u001b[0m \u001b[32m━━━━━━━━━━━━━━━━━━━━\u001b[0m\u001b[37m\u001b[0m \u001b[1m83s\u001b[0m 32ms/step - accuracy: 0.9996 - loss: 0.0012 - val_accuracy: 0.9915 - val_loss: 0.0636\n",
            "Epoch 25/30\n",
            "\u001b[1m1688/1688\u001b[0m \u001b[32m━━━━━━━━━━━━━━━━━━━━\u001b[0m\u001b[37m\u001b[0m \u001b[1m83s\u001b[0m 33ms/step - accuracy: 0.9989 - loss: 0.0039 - val_accuracy: 0.9927 - val_loss: 0.0625\n",
            "Epoch 26/30\n",
            "\u001b[1m1688/1688\u001b[0m \u001b[32m━━━━━━━━━━━━━━━━━━━━\u001b[0m\u001b[37m\u001b[0m \u001b[1m53s\u001b[0m 32ms/step - accuracy: 0.9997 - loss: 0.0013 - val_accuracy: 0.9910 - val_loss: 0.0643\n",
            "Epoch 27/30\n",
            "\u001b[1m1688/1688\u001b[0m \u001b[32m━━━━━━━━━━━━━━━━━━━━\u001b[0m\u001b[37m\u001b[0m \u001b[1m83s\u001b[0m 33ms/step - accuracy: 0.9989 - loss: 0.0034 - val_accuracy: 0.9913 - val_loss: 0.0660\n",
            "Epoch 28/30\n",
            "\u001b[1m1688/1688\u001b[0m \u001b[32m━━━━━━━━━━━━━━━━━━━━\u001b[0m\u001b[37m\u001b[0m \u001b[1m83s\u001b[0m 33ms/step - accuracy: 0.9993 - loss: 0.0028 - val_accuracy: 0.9920 - val_loss: 0.0604\n",
            "Epoch 29/30\n",
            "\u001b[1m1688/1688\u001b[0m \u001b[32m━━━━━━━━━━━━━━━━━━━━\u001b[0m\u001b[37m\u001b[0m \u001b[1m80s\u001b[0m 32ms/step - accuracy: 0.9996 - loss: 0.0017 - val_accuracy: 0.9923 - val_loss: 0.0666\n",
            "Epoch 30/30\n",
            "\u001b[1m1688/1688\u001b[0m \u001b[32m━━━━━━━━━━━━━━━━━━━━\u001b[0m\u001b[37m\u001b[0m \u001b[1m54s\u001b[0m 32ms/step - accuracy: 0.9996 - loss: 0.0023 - val_accuracy: 0.9923 - val_loss: 0.0742\n",
            "313/313 - 3s - 8ms/step - accuracy: 0.9906 - loss: 0.0636\n",
            "\n",
            "Test accuracy: 0.9906\n"
          ]
        }
      ]
    },
    {
      "cell_type": "code",
      "source": [
        "print(f'\\nTest accuracy: {(test_acc*100):.3f}')"
      ],
      "metadata": {
        "colab": {
          "base_uri": "https://localhost:8080/"
        },
        "id": "0qVsAbkCtBr7",
        "outputId": "f6d77d95-2d0a-48e9-ef0f-86242e631f77"
      },
      "execution_count": null,
      "outputs": [
        {
          "output_type": "stream",
          "name": "stdout",
          "text": [
            "\n",
            "Test accuracy: 99.060\n"
          ]
        }
      ]
    }
  ]
}