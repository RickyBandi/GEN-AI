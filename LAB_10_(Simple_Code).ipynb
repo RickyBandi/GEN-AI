{
  "nbformat": 4,
  "nbformat_minor": 0,
  "metadata": {
    "colab": {
      "provenance": [],
      "include_colab_link": true
    },
    "kernelspec": {
      "name": "python3",
      "display_name": "Python 3"
    },
    "language_info": {
      "name": "python"
    }
  },
  "cells": [
    {
      "cell_type": "markdown",
      "metadata": {
        "id": "view-in-github",
        "colab_type": "text"
      },
      "source": [
        "<a href=\"https://colab.research.google.com/github/RickyBandi/GEN-AI/blob/main/LAB_10_(Simple_Code).ipynb\" target=\"_parent\"><img src=\"https://colab.research.google.com/assets/colab-badge.svg\" alt=\"Open In Colab\"/></a>"
      ]
    },
    {
      "cell_type": "markdown",
      "source": [
        "# **SAMPLE QUESTION**\n",
        "\n",
        "\n",
        "Set A: Building and Training CNN Models\n",
        "1.\tBuild and train a CNN model using the CIFAR-10 dataset. Use the following architecture:\n",
        "\n",
        "\n",
        "*   Convolution Layer 1: 32 filters, kernel size (3,3), ReLU activation\n",
        "*   Max Pooling Layer 1: Pool size (2,2)\n",
        "*   Convolution Layer 2: 64 filters, kernel size (3,3), ReLU activation\n",
        "*   Max Pooling Layer 2: Pool size (2,2)\n",
        "*   Dense Layer: 256 units, ReLU activation\n",
        "*   Output Layer: 10 units, softmax activation\n",
        "\n",
        "\n",
        "Compile, train, and evaluate the model using the Adam optimizer. Report the test accuracy.\n",
        "\n",
        "\n",
        "Experiment with different batch sizes (16, 32, and 64) on this dataset. Compare the training time and testing accuracy for each batch size.\n",
        "\n",
        "\n",
        "---\n",
        "\n"
      ],
      "metadata": {
        "id": "DQcW4kfqwK2N"
      }
    },
    {
      "cell_type": "code",
      "execution_count": null,
      "metadata": {
        "id": "sOGxKjUxgqN5"
      },
      "outputs": [],
      "source": [
        "import tensorflow as tf\n",
        "from tensorflow.keras.models import Sequential\n",
        "from tensorflow.keras.layers import Conv2D, MaxPooling2D, Dense, Flatten\n",
        "from tensorflow.keras.datasets import cifar10\n",
        "from tensorflow.keras.utils import to_categorical\n",
        "import time"
      ]
    },
    {
      "cell_type": "code",
      "source": [
        "(x_train, y_train), (x_test, y_test) = cifar10.load_data()"
      ],
      "metadata": {
        "colab": {
          "base_uri": "https://localhost:8080/"
        },
        "id": "SK891YoEguCx",
        "outputId": "949ac216-66e0-4517-f0b4-a12b24d9eeb5"
      },
      "execution_count": null,
      "outputs": [
        {
          "output_type": "stream",
          "name": "stdout",
          "text": [
            "Downloading data from https://www.cs.toronto.edu/~kriz/cifar-10-python.tar.gz\n",
            "\u001b[1m170498071/170498071\u001b[0m \u001b[32m━━━━━━━━━━━━━━━━━━━━\u001b[0m\u001b[37m\u001b[0m \u001b[1m31s\u001b[0m 0us/step\n"
          ]
        }
      ]
    },
    {
      "cell_type": "code",
      "source": [
        "x_train = x_train / 255.0\n",
        "x_test = x_test / 255.0"
      ],
      "metadata": {
        "id": "RFq-mNXqgyYS"
      },
      "execution_count": null,
      "outputs": []
    },
    {
      "cell_type": "code",
      "source": [
        "x_train.shape"
      ],
      "metadata": {
        "colab": {
          "base_uri": "https://localhost:8080/"
        },
        "id": "xWu3E5yYjntu",
        "outputId": "0abb1050-3693-4d6e-e193-0b567f1b3b60"
      },
      "execution_count": null,
      "outputs": [
        {
          "output_type": "execute_result",
          "data": {
            "text/plain": [
              "(50000, 32, 32, 3)"
            ]
          },
          "metadata": {},
          "execution_count": 10
        }
      ]
    },
    {
      "cell_type": "code",
      "source": [
        "y_train = to_categorical(y_train, 10)\n",
        "y_test = to_categorical(y_test, 10)"
      ],
      "metadata": {
        "id": "MXTZX59Ig0ZH"
      },
      "execution_count": null,
      "outputs": []
    },
    {
      "cell_type": "code",
      "source": [
        "# Build the CNN model\n",
        "def build_model():\n",
        "    model = Sequential([\n",
        "        Conv2D(32, kernel_size=(3, 3), activation='relu', input_shape=(32, 32, 3)),\n",
        "        MaxPooling2D(pool_size=(2, 2)),\n",
        "        Conv2D(64, kernel_size=(3, 3), activation='relu'),\n",
        "        MaxPooling2D(pool_size=(2, 2)),\n",
        "        Flatten(),\n",
        "        Dense(256, activation='relu'),\n",
        "        Dense(10, activation='softmax')  # Output layer for classification\n",
        "    ])\n",
        "    model.compile(\n",
        "        optimizer='adam',\n",
        "        loss='categorical_crossentropy',\n",
        "        metrics=['accuracy']\n",
        "    )\n",
        "    return model"
      ],
      "metadata": {
        "id": "6kf8pK1tg2BZ"
      },
      "execution_count": null,
      "outputs": []
    },
    {
      "cell_type": "code",
      "source": [
        "batch_sizes = [16, 32, 64]\n",
        "results = {}"
      ],
      "metadata": {
        "id": "W3QWN43Gg2qD"
      },
      "execution_count": null,
      "outputs": []
    },
    {
      "cell_type": "code",
      "source": [
        "for batch_size in batch_sizes:\n",
        "    print(f\"\\nTraining with batch size: {batch_size}\")\n",
        "    model = build_model()\n",
        "\n",
        "\n",
        "    start_time = time.time()\n",
        "    history = model.fit(\n",
        "        x_train, y_train,\n",
        "        validation_data=(x_test, y_test),\n",
        "        epochs=5,\n",
        "        batch_size=batch_size,\n",
        "        verbose=1\n",
        "    )\n",
        "    end_time = time.time()\n",
        "\n",
        "\n",
        "    test_loss, test_accuracy = model.evaluate(x_test, y_test)\n",
        "    results[batch_size] = {\n",
        "        'accuracy': test_accuracy * 100,\n",
        "        'training_time': end_time - start_time\n",
        "    }\n",
        "\n",
        "    print(f\"Batch Size {batch_size}: Testing Accuracy = {test_accuracy * 100:.2f}%, Training Time = {end_time - start_time:.2f} seconds\")\n",
        "\n",
        "\n",
        "print(\"\\nSummary of Results:\")\n",
        "for batch_size, result in results.items():\n",
        "    print(f\"Batch Size {batch_size}: Accuracy = {result['accuracy']:.2f}%, Training Time = {result['training_time']:.2f} seconds\")"
      ],
      "metadata": {
        "colab": {
          "base_uri": "https://localhost:8080/"
        },
        "id": "RGhcsDhrhAQ5",
        "outputId": "19f1ed70-5969-479a-cfdf-e8a9e633e374"
      },
      "execution_count": null,
      "outputs": [
        {
          "output_type": "stream",
          "name": "stdout",
          "text": [
            "\n",
            "Training with batch size: 16\n",
            "Epoch 1/5\n",
            "\u001b[1m3125/3125\u001b[0m \u001b[32m━━━━━━━━━━━━━━━━━━━━\u001b[0m\u001b[37m\u001b[0m \u001b[1m100s\u001b[0m 31ms/step - accuracy: 0.4055 - loss: 1.6286 - val_accuracy: 0.6069 - val_loss: 1.1210\n",
            "Epoch 2/5\n",
            "\u001b[1m3125/3125\u001b[0m \u001b[32m━━━━━━━━━━━━━━━━━━━━\u001b[0m\u001b[37m\u001b[0m \u001b[1m141s\u001b[0m 31ms/step - accuracy: 0.6346 - loss: 1.0381 - val_accuracy: 0.6584 - val_loss: 0.9605\n",
            "Epoch 3/5\n",
            "\u001b[1m3125/3125\u001b[0m \u001b[32m━━━━━━━━━━━━━━━━━━━━\u001b[0m\u001b[37m\u001b[0m \u001b[1m143s\u001b[0m 32ms/step - accuracy: 0.7027 - loss: 0.8491 - val_accuracy: 0.6791 - val_loss: 0.9403\n",
            "Epoch 4/5\n",
            "\u001b[1m3125/3125\u001b[0m \u001b[32m━━━━━━━━━━━━━━━━━━━━\u001b[0m\u001b[37m\u001b[0m \u001b[1m146s\u001b[0m 33ms/step - accuracy: 0.7485 - loss: 0.7242 - val_accuracy: 0.6908 - val_loss: 0.9129\n",
            "Epoch 5/5\n",
            "\u001b[1m3125/3125\u001b[0m \u001b[32m━━━━━━━━━━━━━━━━━━━━\u001b[0m\u001b[37m\u001b[0m \u001b[1m138s\u001b[0m 32ms/step - accuracy: 0.7896 - loss: 0.5978 - val_accuracy: 0.6929 - val_loss: 0.9513\n",
            "\u001b[1m313/313\u001b[0m \u001b[32m━━━━━━━━━━━━━━━━━━━━\u001b[0m\u001b[37m\u001b[0m \u001b[1m5s\u001b[0m 15ms/step - accuracy: 0.6902 - loss: 0.9424\n",
            "Batch Size 16: Testing Accuracy = 69.29%, Training Time = 671.17 seconds\n",
            "\n",
            "Training with batch size: 32\n",
            "Epoch 1/5\n",
            "\u001b[1m1563/1563\u001b[0m \u001b[32m━━━━━━━━━━━━━━━━━━━━\u001b[0m\u001b[37m\u001b[0m \u001b[1m81s\u001b[0m 51ms/step - accuracy: 0.4170 - loss: 1.5980 - val_accuracy: 0.5878 - val_loss: 1.1591\n",
            "Epoch 2/5\n",
            "\u001b[1m1563/1563\u001b[0m \u001b[32m━━━━━━━━━━━━━━━━━━━━\u001b[0m\u001b[37m\u001b[0m \u001b[1m82s\u001b[0m 53ms/step - accuracy: 0.6351 - loss: 1.0457 - val_accuracy: 0.6608 - val_loss: 0.9754\n",
            "Epoch 3/5\n",
            "\u001b[1m1563/1563\u001b[0m \u001b[32m━━━━━━━━━━━━━━━━━━━━\u001b[0m\u001b[37m\u001b[0m \u001b[1m140s\u001b[0m 51ms/step - accuracy: 0.6934 - loss: 0.8736 - val_accuracy: 0.6685 - val_loss: 0.9459\n",
            "Epoch 4/5\n",
            "\u001b[1m1563/1563\u001b[0m \u001b[32m━━━━━━━━━━━━━━━━━━━━\u001b[0m\u001b[37m\u001b[0m \u001b[1m83s\u001b[0m 52ms/step - accuracy: 0.7435 - loss: 0.7390 - val_accuracy: 0.6853 - val_loss: 0.9254\n",
            "Epoch 5/5\n",
            "\u001b[1m1563/1563\u001b[0m \u001b[32m━━━━━━━━━━━━━━━━━━━━\u001b[0m\u001b[37m\u001b[0m \u001b[1m79s\u001b[0m 50ms/step - accuracy: 0.7853 - loss: 0.6150 - val_accuracy: 0.6982 - val_loss: 0.8969\n",
            "\u001b[1m313/313\u001b[0m \u001b[32m━━━━━━━━━━━━━━━━━━━━\u001b[0m\u001b[37m\u001b[0m \u001b[1m4s\u001b[0m 14ms/step - accuracy: 0.7038 - loss: 0.8841\n",
            "Batch Size 32: Testing Accuracy = 69.82%, Training Time = 470.59 seconds\n",
            "\n",
            "Training with batch size: 64\n",
            "Epoch 1/5\n",
            "\u001b[1m782/782\u001b[0m \u001b[32m━━━━━━━━━━━━━━━━━━━━\u001b[0m\u001b[37m\u001b[0m \u001b[1m76s\u001b[0m 94ms/step - accuracy: 0.3936 - loss: 1.6693 - val_accuracy: 0.5824 - val_loss: 1.1869\n",
            "Epoch 2/5\n",
            "\u001b[1m782/782\u001b[0m \u001b[32m━━━━━━━━━━━━━━━━━━━━\u001b[0m\u001b[37m\u001b[0m \u001b[1m77s\u001b[0m 99ms/step - accuracy: 0.6118 - loss: 1.1053 - val_accuracy: 0.6469 - val_loss: 1.0073\n",
            "Epoch 3/5\n",
            "\u001b[1m782/782\u001b[0m \u001b[32m━━━━━━━━━━━━━━━━━━━━\u001b[0m\u001b[37m\u001b[0m \u001b[1m72s\u001b[0m 92ms/step - accuracy: 0.6738 - loss: 0.9269 - val_accuracy: 0.6549 - val_loss: 0.9990\n",
            "Epoch 4/5\n",
            "\u001b[1m782/782\u001b[0m \u001b[32m━━━━━━━━━━━━━━━━━━━━\u001b[0m\u001b[37m\u001b[0m \u001b[1m85s\u001b[0m 96ms/step - accuracy: 0.7178 - loss: 0.8075 - val_accuracy: 0.6917 - val_loss: 0.9173\n",
            "Epoch 5/5\n",
            "\u001b[1m782/782\u001b[0m \u001b[32m━━━━━━━━━━━━━━━━━━━━\u001b[0m\u001b[37m\u001b[0m \u001b[1m81s\u001b[0m 95ms/step - accuracy: 0.7539 - loss: 0.7104 - val_accuracy: 0.7115 - val_loss: 0.8559\n",
            "\u001b[1m313/313\u001b[0m \u001b[32m━━━━━━━━━━━━━━━━━━━━\u001b[0m\u001b[37m\u001b[0m \u001b[1m5s\u001b[0m 15ms/step - accuracy: 0.7139 - loss: 0.8513\n",
            "Batch Size 64: Testing Accuracy = 71.15%, Training Time = 400.22 seconds\n",
            "\n",
            "Summary of Results:\n",
            "Batch Size 16: Accuracy = 69.29%, Training Time = 671.17 seconds\n",
            "Batch Size 32: Accuracy = 69.82%, Training Time = 470.59 seconds\n",
            "Batch Size 64: Accuracy = 71.15%, Training Time = 400.22 seconds\n"
          ]
        }
      ]
    },
    {
      "cell_type": "code",
      "source": [
        "import numpy as np\n",
        "import matplotlib.pyplot as plt"
      ],
      "metadata": {
        "id": "Byg6NhlWhFUc"
      },
      "execution_count": null,
      "outputs": []
    },
    {
      "cell_type": "code",
      "source": [
        "random_index = np.random.randint(0, x_test.shape[0])\n",
        "test_image = x_test[random_index]\n",
        "\n",
        "test_image_reshaped = test_image.reshape(1, 32, 32, 3)\n",
        "\n",
        "plt.imshow(test_image)\n",
        "plt.title(\"Test Image\")\n",
        "plt.axis('off')\n",
        "plt.show()"
      ],
      "metadata": {
        "colab": {
          "base_uri": "https://localhost:8080/",
          "height": 428
        },
        "id": "SeB4QAHIhTkl",
        "outputId": "496df143-3b68-450c-efe0-69524a825ab9"
      },
      "execution_count": null,
      "outputs": [
        {
          "output_type": "display_data",
          "data": {
            "text/plain": [
              "<Figure size 640x480 with 1 Axes>"
            ],
            "image/png": "[encoded data removed]"
          },
          "metadata": {}
        }
      ]
    },
    {
      "cell_type": "code",
      "source": [
        "predicted_class = np.argmax(model.predict(test_image_reshaped))\n",
        "\n",
        "class_labels = [\n",
        "    'Airplane', 'Automobile', 'Bird', 'Cat', 'Deer',\n",
        "    'Dog', 'Frog', 'Horse', 'Ship', 'Truck'\n",
        "]\n",
        "\n",
        "print(f\"Predicted Class: {class_labels[predicted_class]}\")"
      ],
      "metadata": {
        "colab": {
          "base_uri": "https://localhost:8080/"
        },
        "id": "K78HS_tyhcLr",
        "outputId": "b683b48a-2a42-4639-cb7f-adf8efce64f9"
      },
      "execution_count": null,
      "outputs": [
        {
          "output_type": "stream",
          "name": "stdout",
          "text": [
            "\u001b[1m1/1\u001b[0m \u001b[32m━━━━━━━━━━━━━━━━━━━━\u001b[0m\u001b[37m\u001b[0m \u001b[1m0s\u001b[0m 147ms/step\n",
            "Predicted Class: Dog\n"
          ]
        }
      ]
    }
  ]
}